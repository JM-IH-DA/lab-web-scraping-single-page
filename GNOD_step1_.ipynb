{
 "cells": [
  {
   "cell_type": "markdown",
   "id": "d1346b37",
   "metadata": {},
   "source": [
    "###  Lab | Web Scraping Single Page (GNOD part 1)\n",
    "\n",
    "#### Business goal:\n",
    "\n",
    "Check the case_study_gnod.md file.\n",
    "\n",
    "Make sure you've understood the big picture of your project:\n",
    "\n",
    "the goal of the company (Gnod),\n",
    "their current product (Gnoosic),\n",
    "their strategy, and\n",
    "how your project fits into this context.\n",
    "Re-read the business case and the e-mail from the CTO.\n",
    "\n",
    "#### Instructions - Scraping popular songs\n",
    "\n",
    "Your product will take a song as an input from the user and will output another song (the recommendation). In most cases, the recommended song will have to be similar to the inputted song, but the CTO thinks that if the song is on the top charts at the moment, the user will also enjoy a recommendation of another song that is popular at the moment.\n",
    "\n",
    "You have to find data on the internet about currently popular songs. Popvortex maintains a weekly Top 100 of \"hot\" songs here: http://www.popvortex.com/music/charts/top-100-songs.php.\n",
    "\n",
    "It's a good place to start! Scrape the current top 100 songs and their respective artists, and put the information into a pandas dataframe."
   ]
  },
  {
   "cell_type": "code",
   "execution_count": 1,
   "id": "f248a707",
   "metadata": {},
   "outputs": [],
   "source": [
    "# Importing libaries:\n",
    "\n",
    "from bs4 import BeautifulSoup\n",
    "import requests\n",
    "import pandas as pd"
   ]
  },
  {
   "cell_type": "code",
   "execution_count": 2,
   "id": "8854ed0b",
   "metadata": {},
   "outputs": [],
   "source": [
    "# Finding the url and storing it in a variable:\n",
    "\n",
    "url = \"https://www.popvortex.com/music/charts/top-100-songs.php\""
   ]
  },
  {
   "cell_type": "code",
   "execution_count": 3,
   "id": "53a0f77a",
   "metadata": {},
   "outputs": [
    {
     "data": {
      "text/plain": [
       "200"
      ]
     },
     "execution_count": 3,
     "metadata": {},
     "output_type": "execute_result"
    }
   ],
   "source": [
    "# Downloading html with a get request:\n",
    "\n",
    "response = requests.get(url)\n",
    "response.status_code"
   ]
  },
  {
   "cell_type": "code",
   "execution_count": 4,
   "id": "8577a398",
   "metadata": {},
   "outputs": [],
   "source": [
    "# Parsing html (creating the 'soup'):\n",
    "\n",
    "soup = BeautifulSoup(response.content, \"html.parser\")"
   ]
  },
  {
   "cell_type": "code",
   "execution_count": 5,
   "id": "0512ba56",
   "metadata": {
    "scrolled": true
   },
   "outputs": [],
   "source": [
    "# Checking that the html code looks like it should:\n",
    "\n",
    "#print(soup.prettify())"
   ]
  },
  {
   "cell_type": "code",
   "execution_count": 6,
   "id": "79607528",
   "metadata": {},
   "outputs": [],
   "source": [
    "# Extracting the titles and artists from the url:\n",
    "\n",
    "titles = soup.select(\".chart-content.col-xs-12.col-sm-8 > p > cite\")\n",
    "artists = soup.select(\".chart-content.col-xs-12.col-sm-8 > p > em\")\n",
    "    \n",
    "title_text = [title.get_text() for title in titles]\n",
    "artist_text = [artist.get_text() for artist in artists]\n",
    "    \n",
    "data = {\"Title\": title_text,\n",
    "        \"Artist\": artist_text}\n",
    "    \n",
    "df = pd.DataFrame(data)"
   ]
  },
  {
   "cell_type": "code",
   "execution_count": 7,
   "id": "6baabe95",
   "metadata": {},
   "outputs": [
    {
     "data": {
      "text/html": [
       "<div>\n",
       "<style scoped>\n",
       "    .dataframe tbody tr th:only-of-type {\n",
       "        vertical-align: middle;\n",
       "    }\n",
       "\n",
       "    .dataframe tbody tr th {\n",
       "        vertical-align: top;\n",
       "    }\n",
       "\n",
       "    .dataframe thead th {\n",
       "        text-align: right;\n",
       "    }\n",
       "</style>\n",
       "<table border=\"1\" class=\"dataframe\">\n",
       "  <thead>\n",
       "    <tr style=\"text-align: right;\">\n",
       "      <th></th>\n",
       "      <th>Title</th>\n",
       "      <th>Artist</th>\n",
       "    </tr>\n",
       "  </thead>\n",
       "  <tbody>\n",
       "    <tr>\n",
       "      <th>0</th>\n",
       "      <td>Lovin On Me</td>\n",
       "      <td>Jack Harlow</td>\n",
       "    </tr>\n",
       "    <tr>\n",
       "      <th>1</th>\n",
       "      <td>Lil Boo Thang</td>\n",
       "      <td>Paul Russell</td>\n",
       "    </tr>\n",
       "    <tr>\n",
       "      <th>2</th>\n",
       "      <td>White Horse</td>\n",
       "      <td>Chris Stapleton</td>\n",
       "    </tr>\n",
       "    <tr>\n",
       "      <th>3</th>\n",
       "      <td>I Remember Everything (feat. Kacey Musgraves)</td>\n",
       "      <td>Zach Bryan</td>\n",
       "    </tr>\n",
       "    <tr>\n",
       "      <th>4</th>\n",
       "      <td>Around Me the Cold Night</td>\n",
       "      <td>Luminara Stellaris</td>\n",
       "    </tr>\n",
       "    <tr>\n",
       "      <th>...</th>\n",
       "      <td>...</td>\n",
       "      <td>...</td>\n",
       "    </tr>\n",
       "    <tr>\n",
       "      <th>95</th>\n",
       "      <td>vampire</td>\n",
       "      <td>Olivia Rodrigo</td>\n",
       "    </tr>\n",
       "    <tr>\n",
       "      <th>96</th>\n",
       "      <td>Pretty Little Poison</td>\n",
       "      <td>Warren Zeiders</td>\n",
       "    </tr>\n",
       "    <tr>\n",
       "      <th>97</th>\n",
       "      <td>Presha</td>\n",
       "      <td>2 Chainz &amp; Lil Wayne</td>\n",
       "    </tr>\n",
       "    <tr>\n",
       "      <th>98</th>\n",
       "      <td>Strangers</td>\n",
       "      <td>Kenya Grace</td>\n",
       "    </tr>\n",
       "    <tr>\n",
       "      <th>99</th>\n",
       "      <td>G6</td>\n",
       "      <td>2 Chainz &amp; Lil Wayne</td>\n",
       "    </tr>\n",
       "  </tbody>\n",
       "</table>\n",
       "<p>100 rows × 2 columns</p>\n",
       "</div>"
      ],
      "text/plain": [
       "                                            Title                Artist\n",
       "0                                     Lovin On Me           Jack Harlow\n",
       "1                                   Lil Boo Thang          Paul Russell\n",
       "2                                     White Horse       Chris Stapleton\n",
       "3   I Remember Everything (feat. Kacey Musgraves)            Zach Bryan\n",
       "4                        Around Me the Cold Night    Luminara Stellaris\n",
       "..                                            ...                   ...\n",
       "95                                        vampire        Olivia Rodrigo\n",
       "96                           Pretty Little Poison        Warren Zeiders\n",
       "97                                         Presha  2 Chainz & Lil Wayne\n",
       "98                                      Strangers           Kenya Grace\n",
       "99                                             G6  2 Chainz & Lil Wayne\n",
       "\n",
       "[100 rows x 2 columns]"
      ]
     },
     "execution_count": 7,
     "metadata": {},
     "output_type": "execute_result"
    }
   ],
   "source": [
    "# DF:\n",
    "\n",
    "df"
   ]
  },
  {
   "cell_type": "markdown",
   "id": "a5fda3d4",
   "metadata": {},
   "source": [
    "---------"
   ]
  },
  {
   "cell_type": "markdown",
   "id": "0b3d3a1a",
   "metadata": {},
   "source": [
    "### Lab | Web Scraping Multiple Pages\n",
    "\n",
    "#### Business goal:\n",
    "\n",
    "- Check the case_study_gnod.md file.\n",
    "\n",
    "- Make sure you've understood the big picture of your project:\n",
    "\n",
    "    - the goal of the company (Gnod),\n",
    "    - their current product (Gnoosic),\n",
    "    - their strategy, and\n",
    "    - how your project fits into this context.\n",
    "    \n",
    "Re-read the business case and the e-mail from the CTO, take a look at the flowchart and create an initial Trello board with the tasks you think you'll have to accomplish.\n",
    "\n",
    "#### Instructions Part 1\n",
    "\n",
    "##### Prioritize the MVP (Minimum Viable Product)\n",
    "\n",
    "In the previous lab, you had to scrape data about \"hot songs\". It's critical to be on track with that part, as it was part of the request from the CTO.\n",
    "\n",
    "If you couldn't finish the first lab, use this time to go back there.\n",
    "\n",
    "##### Expand the project\n",
    "\n",
    "If you're done, you can try to expand the project on your own. Here are a few suggestions:\n",
    "\n",
    "- Find other lists of hot songs on the internet and scrape them too: having a bigger pool of songs will be awesome!\n",
    "- Apply the same logic to other \"groups\" of songs: the best songs from a decade or from a country / culture / language / genre.\n",
    "- Wikipedia maintains a large collection of lists of songs: https://en.wikipedia.org/wiki/Lists_of_songs"
   ]
  },
  {
   "cell_type": "code",
   "execution_count": 8,
   "id": "0d464932",
   "metadata": {},
   "outputs": [],
   "source": [
    "# Finding other lists of hot songs on the internet and scrape them too\n",
    "\n",
    "url2 = \"https://www.billboard.com/charts/hot-100/\""
   ]
  },
  {
   "cell_type": "code",
   "execution_count": 9,
   "id": "37466c90",
   "metadata": {},
   "outputs": [
    {
     "data": {
      "text/plain": [
       "200"
      ]
     },
     "execution_count": 9,
     "metadata": {},
     "output_type": "execute_result"
    }
   ],
   "source": [
    "# Downloading html with a get request:\n",
    "\n",
    "response2 = requests.get(url2)\n",
    "response2.status_code"
   ]
  },
  {
   "cell_type": "code",
   "execution_count": 10,
   "id": "c8ac521b",
   "metadata": {},
   "outputs": [],
   "source": [
    "# Parsing html (create the 'soup'):\n",
    "\n",
    "soup2 = BeautifulSoup(response2.content, \"html.parser\")"
   ]
  },
  {
   "cell_type": "code",
   "execution_count": 11,
   "id": "de077db1",
   "metadata": {},
   "outputs": [],
   "source": [
    "# Checking that the html code looks like it should:\n",
    "\n",
    "# print(soup2.prettify())"
   ]
  },
  {
   "cell_type": "code",
   "execution_count": 12,
   "id": "cc751314",
   "metadata": {
    "scrolled": false
   },
   "outputs": [],
   "source": [
    "# Extracting the titles and artists from the url:\n",
    "\n",
    "titles = []\n",
    "artists = []\n",
    "\n",
    "for i in range(1, 110): \n",
    "    title_selector = f\"#post-1479786 > div.pmc-paywall > div > div > div > div.chart-results-list.\\/\\/.lrv-u-padding-t-150.lrv-u-padding-t-050\\\\@mobile-max > div:nth-child({i + 1}) > ul > li.lrv-u-width-100p > ul > li.o-chart-results-list__item.\\/\\/.lrv-u-flex-grow-1.lrv-u-flex.lrv-u-flex-direction-column.lrv-u-justify-content-center.lrv-u-border-b-1.u-border-b-0\\\\@mobile-max.lrv-u-border-color-grey-light.lrv-u-padding-l-1\\\\@mobile-max > h3\"\n",
    "    artist_selector = f\"#post-1479786 > div.pmc-paywall > div > div > div > div.chart-results-list.\\/\\/.lrv-u-padding-t-150.lrv-u-padding-t-050\\\\@mobile-max > div:nth-child({i + 1}) > ul > li.lrv-u-width-100p > ul > li.o-chart-results-list__item.\\/\\/.lrv-u-flex-grow-1.lrv-u-flex.lrv-u-flex-direction-column.lrv-u-justify-content-center.lrv-u-border-b-1.u-border-b-0\\\\@mobile-max.lrv-u-border-color-grey-light.lrv-u-padding-l-1\\\\@mobile-max > span\"\n",
    "\n",
    "    title_element = soup2.select_one(title_selector)\n",
    "    artist_element = soup2.select_one(artist_selector)\n",
    "\n",
    "    if title_element:\n",
    "        title = title_element.get_text(strip=True)\n",
    "        titles.append(title)\n",
    "\n",
    "    if artist_element:\n",
    "        artist = artist_element.get_text(strip=True)\n",
    "        artists.append(artist)\n",
    "\n",
    "data1 = {'Title': titles, 'Artist': artists}\n",
    "df1 = pd.DataFrame(data1, index=range(1, len(titles) + 1))"
   ]
  },
  {
   "cell_type": "code",
   "execution_count": 13,
   "id": "0226195c",
   "metadata": {},
   "outputs": [
    {
     "data": {
      "text/html": [
       "<div>\n",
       "<style scoped>\n",
       "    .dataframe tbody tr th:only-of-type {\n",
       "        vertical-align: middle;\n",
       "    }\n",
       "\n",
       "    .dataframe tbody tr th {\n",
       "        vertical-align: top;\n",
       "    }\n",
       "\n",
       "    .dataframe thead th {\n",
       "        text-align: right;\n",
       "    }\n",
       "</style>\n",
       "<table border=\"1\" class=\"dataframe\">\n",
       "  <thead>\n",
       "    <tr style=\"text-align: right;\">\n",
       "      <th></th>\n",
       "      <th>Title</th>\n",
       "      <th>Artist</th>\n",
       "    </tr>\n",
       "  </thead>\n",
       "  <tbody>\n",
       "    <tr>\n",
       "      <th>1</th>\n",
       "      <td>Cruel Summer</td>\n",
       "      <td>Taylor Swift</td>\n",
       "    </tr>\n",
       "    <tr>\n",
       "      <th>2</th>\n",
       "      <td>Lovin On Me</td>\n",
       "      <td>Jack Harlow</td>\n",
       "    </tr>\n",
       "    <tr>\n",
       "      <th>3</th>\n",
       "      <td>Paint The Town Red</td>\n",
       "      <td>Doja Cat</td>\n",
       "    </tr>\n",
       "    <tr>\n",
       "      <th>4</th>\n",
       "      <td>Snooze</td>\n",
       "      <td>SZA</td>\n",
       "    </tr>\n",
       "    <tr>\n",
       "      <th>5</th>\n",
       "      <td>Is It Over Now? (Taylor's Version) [From The V...</td>\n",
       "      <td>Taylor Swift</td>\n",
       "    </tr>\n",
       "    <tr>\n",
       "      <th>...</th>\n",
       "      <td>...</td>\n",
       "      <td>...</td>\n",
       "    </tr>\n",
       "    <tr>\n",
       "      <th>96</th>\n",
       "      <td>Mi Ex Tenia Razon</td>\n",
       "      <td>Karol G</td>\n",
       "    </tr>\n",
       "    <tr>\n",
       "      <th>97</th>\n",
       "      <td>Different 'Round Here</td>\n",
       "      <td>Riley Green Featuring Luke Combs</td>\n",
       "    </tr>\n",
       "    <tr>\n",
       "      <th>98</th>\n",
       "      <td>But I Got A Beer In My Hand</td>\n",
       "      <td>Luke Bryan</td>\n",
       "    </tr>\n",
       "    <tr>\n",
       "      <th>99</th>\n",
       "      <td>Better Than Ever</td>\n",
       "      <td>YoungBoy Never Broke Again &amp; Rod Wave</td>\n",
       "    </tr>\n",
       "    <tr>\n",
       "      <th>100</th>\n",
       "      <td>Soak City (Do It)</td>\n",
       "      <td>310babii</td>\n",
       "    </tr>\n",
       "  </tbody>\n",
       "</table>\n",
       "<p>100 rows × 2 columns</p>\n",
       "</div>"
      ],
      "text/plain": [
       "                                                 Title  \\\n",
       "1                                         Cruel Summer   \n",
       "2                                          Lovin On Me   \n",
       "3                                   Paint The Town Red   \n",
       "4                                               Snooze   \n",
       "5    Is It Over Now? (Taylor's Version) [From The V...   \n",
       "..                                                 ...   \n",
       "96                                   Mi Ex Tenia Razon   \n",
       "97                               Different 'Round Here   \n",
       "98                         But I Got A Beer In My Hand   \n",
       "99                                    Better Than Ever   \n",
       "100                                  Soak City (Do It)   \n",
       "\n",
       "                                    Artist  \n",
       "1                             Taylor Swift  \n",
       "2                              Jack Harlow  \n",
       "3                                 Doja Cat  \n",
       "4                                      SZA  \n",
       "5                             Taylor Swift  \n",
       "..                                     ...  \n",
       "96                                 Karol G  \n",
       "97        Riley Green Featuring Luke Combs  \n",
       "98                              Luke Bryan  \n",
       "99   YoungBoy Never Broke Again & Rod Wave  \n",
       "100                               310babii  \n",
       "\n",
       "[100 rows x 2 columns]"
      ]
     },
     "execution_count": 13,
     "metadata": {},
     "output_type": "execute_result"
    }
   ],
   "source": [
    "df1"
   ]
  },
  {
   "cell_type": "markdown",
   "id": "f9a2d87e",
   "metadata": {},
   "source": [
    "-----------"
   ]
  },
  {
   "cell_type": "code",
   "execution_count": 14,
   "id": "241cacd9",
   "metadata": {},
   "outputs": [
    {
     "data": {
      "text/html": [
       "<div>\n",
       "<style scoped>\n",
       "    .dataframe tbody tr th:only-of-type {\n",
       "        vertical-align: middle;\n",
       "    }\n",
       "\n",
       "    .dataframe tbody tr th {\n",
       "        vertical-align: top;\n",
       "    }\n",
       "\n",
       "    .dataframe thead th {\n",
       "        text-align: right;\n",
       "    }\n",
       "</style>\n",
       "<table border=\"1\" class=\"dataframe\">\n",
       "  <thead>\n",
       "    <tr style=\"text-align: right;\">\n",
       "      <th></th>\n",
       "      <th>Title</th>\n",
       "      <th>Artist</th>\n",
       "    </tr>\n",
       "  </thead>\n",
       "  <tbody>\n",
       "    <tr>\n",
       "      <th>0</th>\n",
       "      <td>Lovin On Me</td>\n",
       "      <td>Jack Harlow</td>\n",
       "    </tr>\n",
       "    <tr>\n",
       "      <th>1</th>\n",
       "      <td>Lil Boo Thang</td>\n",
       "      <td>Paul Russell</td>\n",
       "    </tr>\n",
       "    <tr>\n",
       "      <th>2</th>\n",
       "      <td>White Horse</td>\n",
       "      <td>Chris Stapleton</td>\n",
       "    </tr>\n",
       "    <tr>\n",
       "      <th>3</th>\n",
       "      <td>I Remember Everything (feat. Kacey Musgraves)</td>\n",
       "      <td>Zach Bryan</td>\n",
       "    </tr>\n",
       "    <tr>\n",
       "      <th>4</th>\n",
       "      <td>Around Me the Cold Night</td>\n",
       "      <td>Luminara Stellaris</td>\n",
       "    </tr>\n",
       "    <tr>\n",
       "      <th>...</th>\n",
       "      <td>...</td>\n",
       "      <td>...</td>\n",
       "    </tr>\n",
       "    <tr>\n",
       "      <th>195</th>\n",
       "      <td>Mi Ex Tenia Razon</td>\n",
       "      <td>Karol G</td>\n",
       "    </tr>\n",
       "    <tr>\n",
       "      <th>196</th>\n",
       "      <td>Different 'Round Here</td>\n",
       "      <td>Riley Green Featuring Luke Combs</td>\n",
       "    </tr>\n",
       "    <tr>\n",
       "      <th>197</th>\n",
       "      <td>But I Got A Beer In My Hand</td>\n",
       "      <td>Luke Bryan</td>\n",
       "    </tr>\n",
       "    <tr>\n",
       "      <th>198</th>\n",
       "      <td>Better Than Ever</td>\n",
       "      <td>YoungBoy Never Broke Again &amp; Rod Wave</td>\n",
       "    </tr>\n",
       "    <tr>\n",
       "      <th>199</th>\n",
       "      <td>Soak City (Do It)</td>\n",
       "      <td>310babii</td>\n",
       "    </tr>\n",
       "  </tbody>\n",
       "</table>\n",
       "<p>200 rows × 2 columns</p>\n",
       "</div>"
      ],
      "text/plain": [
       "                                             Title  \\\n",
       "0                                      Lovin On Me   \n",
       "1                                    Lil Boo Thang   \n",
       "2                                      White Horse   \n",
       "3    I Remember Everything (feat. Kacey Musgraves)   \n",
       "4                         Around Me the Cold Night   \n",
       "..                                             ...   \n",
       "195                              Mi Ex Tenia Razon   \n",
       "196                          Different 'Round Here   \n",
       "197                    But I Got A Beer In My Hand   \n",
       "198                               Better Than Ever   \n",
       "199                              Soak City (Do It)   \n",
       "\n",
       "                                    Artist  \n",
       "0                              Jack Harlow  \n",
       "1                             Paul Russell  \n",
       "2                          Chris Stapleton  \n",
       "3                               Zach Bryan  \n",
       "4                       Luminara Stellaris  \n",
       "..                                     ...  \n",
       "195                                Karol G  \n",
       "196       Riley Green Featuring Luke Combs  \n",
       "197                             Luke Bryan  \n",
       "198  YoungBoy Never Broke Again & Rod Wave  \n",
       "199                               310babii  \n",
       "\n",
       "[200 rows x 2 columns]"
      ]
     },
     "execution_count": 14,
     "metadata": {},
     "output_type": "execute_result"
    }
   ],
   "source": [
    "# Concatenating both df:\n",
    "\n",
    "combined_df = pd.concat([df, df1], ignore_index=True)\n",
    "\n",
    "combined_df"
   ]
  },
  {
   "cell_type": "code",
   "execution_count": 15,
   "id": "95dcca9c",
   "metadata": {},
   "outputs": [
    {
     "data": {
      "text/plain": [
       "21"
      ]
     },
     "execution_count": 15,
     "metadata": {},
     "output_type": "execute_result"
    }
   ],
   "source": [
    "# Checking for duplicates:\n",
    "\n",
    "combined_df.duplicated().sum()"
   ]
  },
  {
   "cell_type": "code",
   "execution_count": 16,
   "id": "8d0d92dd",
   "metadata": {},
   "outputs": [
    {
     "data": {
      "text/html": [
       "<div>\n",
       "<style scoped>\n",
       "    .dataframe tbody tr th:only-of-type {\n",
       "        vertical-align: middle;\n",
       "    }\n",
       "\n",
       "    .dataframe tbody tr th {\n",
       "        vertical-align: top;\n",
       "    }\n",
       "\n",
       "    .dataframe thead th {\n",
       "        text-align: right;\n",
       "    }\n",
       "</style>\n",
       "<table border=\"1\" class=\"dataframe\">\n",
       "  <thead>\n",
       "    <tr style=\"text-align: right;\">\n",
       "      <th></th>\n",
       "      <th>Title</th>\n",
       "      <th>Artist</th>\n",
       "    </tr>\n",
       "  </thead>\n",
       "  <tbody>\n",
       "    <tr>\n",
       "      <th>0</th>\n",
       "      <td>Lovin On Me</td>\n",
       "      <td>Jack Harlow</td>\n",
       "    </tr>\n",
       "    <tr>\n",
       "      <th>1</th>\n",
       "      <td>Lil Boo Thang</td>\n",
       "      <td>Paul Russell</td>\n",
       "    </tr>\n",
       "    <tr>\n",
       "      <th>2</th>\n",
       "      <td>White Horse</td>\n",
       "      <td>Chris Stapleton</td>\n",
       "    </tr>\n",
       "    <tr>\n",
       "      <th>3</th>\n",
       "      <td>I Remember Everything (feat. Kacey Musgraves)</td>\n",
       "      <td>Zach Bryan</td>\n",
       "    </tr>\n",
       "    <tr>\n",
       "      <th>4</th>\n",
       "      <td>Around Me the Cold Night</td>\n",
       "      <td>Luminara Stellaris</td>\n",
       "    </tr>\n",
       "    <tr>\n",
       "      <th>...</th>\n",
       "      <td>...</td>\n",
       "      <td>...</td>\n",
       "    </tr>\n",
       "    <tr>\n",
       "      <th>195</th>\n",
       "      <td>Mi Ex Tenia Razon</td>\n",
       "      <td>Karol G</td>\n",
       "    </tr>\n",
       "    <tr>\n",
       "      <th>196</th>\n",
       "      <td>Different 'Round Here</td>\n",
       "      <td>Riley Green Featuring Luke Combs</td>\n",
       "    </tr>\n",
       "    <tr>\n",
       "      <th>197</th>\n",
       "      <td>But I Got A Beer In My Hand</td>\n",
       "      <td>Luke Bryan</td>\n",
       "    </tr>\n",
       "    <tr>\n",
       "      <th>198</th>\n",
       "      <td>Better Than Ever</td>\n",
       "      <td>YoungBoy Never Broke Again &amp; Rod Wave</td>\n",
       "    </tr>\n",
       "    <tr>\n",
       "      <th>199</th>\n",
       "      <td>Soak City (Do It)</td>\n",
       "      <td>310babii</td>\n",
       "    </tr>\n",
       "  </tbody>\n",
       "</table>\n",
       "<p>179 rows × 2 columns</p>\n",
       "</div>"
      ],
      "text/plain": [
       "                                             Title  \\\n",
       "0                                      Lovin On Me   \n",
       "1                                    Lil Boo Thang   \n",
       "2                                      White Horse   \n",
       "3    I Remember Everything (feat. Kacey Musgraves)   \n",
       "4                         Around Me the Cold Night   \n",
       "..                                             ...   \n",
       "195                              Mi Ex Tenia Razon   \n",
       "196                          Different 'Round Here   \n",
       "197                    But I Got A Beer In My Hand   \n",
       "198                               Better Than Ever   \n",
       "199                              Soak City (Do It)   \n",
       "\n",
       "                                    Artist  \n",
       "0                              Jack Harlow  \n",
       "1                             Paul Russell  \n",
       "2                          Chris Stapleton  \n",
       "3                               Zach Bryan  \n",
       "4                       Luminara Stellaris  \n",
       "..                                     ...  \n",
       "195                                Karol G  \n",
       "196       Riley Green Featuring Luke Combs  \n",
       "197                             Luke Bryan  \n",
       "198  YoungBoy Never Broke Again & Rod Wave  \n",
       "199                               310babii  \n",
       "\n",
       "[179 rows x 2 columns]"
      ]
     },
     "execution_count": 16,
     "metadata": {},
     "output_type": "execute_result"
    }
   ],
   "source": [
    "# Dropping duplicates and keeping the first one:\n",
    "\n",
    "combined_df = combined_df.drop_duplicates(keep='first')\n",
    "\n",
    "combined_df"
   ]
  },
  {
   "cell_type": "code",
   "execution_count": 17,
   "id": "931bb3c6",
   "metadata": {},
   "outputs": [
    {
     "data": {
      "text/plain": [
       "0"
      ]
     },
     "execution_count": 17,
     "metadata": {},
     "output_type": "execute_result"
    }
   ],
   "source": [
    "# Checking again:\n",
    "\n",
    "combined_df.duplicated().sum()"
   ]
  },
  {
   "cell_type": "code",
   "execution_count": 18,
   "id": "1d4af66b",
   "metadata": {},
   "outputs": [],
   "source": [
    "# Saving into a df:\n",
    "\n",
    "combined_df.to_csv('songs.csv', index=False)"
   ]
  }
 ],
 "metadata": {
  "kernelspec": {
   "display_name": "Python 3 (ipykernel)",
   "language": "python",
   "name": "python3"
  },
  "language_info": {
   "codemirror_mode": {
    "name": "ipython",
    "version": 3
   },
   "file_extension": ".py",
   "mimetype": "text/x-python",
   "name": "python",
   "nbconvert_exporter": "python",
   "pygments_lexer": "ipython3",
   "version": "3.11.5"
  }
 },
 "nbformat": 4,
 "nbformat_minor": 5
}
