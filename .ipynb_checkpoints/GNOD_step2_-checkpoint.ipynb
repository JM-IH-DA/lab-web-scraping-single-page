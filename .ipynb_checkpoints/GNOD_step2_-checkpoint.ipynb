{
 "cells": [
  {
   "cell_type": "markdown",
   "id": "0f991569",
   "metadata": {},
   "source": [
    "### GNOD Process Step 2\n",
    "\n",
    "The first steps you took yesterday, were to create a list of Top Songs and Artists from scraping web sites.\n",
    "\n",
    "You should have ended with your lists in a data frame containing at least Song Title and Artist.\n",
    "\n",
    "Today you are creating a recommender where the user inputs a song title and check if that song is in the list you created.   If it is,  give a different random song and artist from the list.  If it is not on the list, let the user know that you have no recommendation at this time."
   ]
  },
  {
   "cell_type": "code",
   "execution_count": 1,
   "id": "675b4541",
   "metadata": {},
   "outputs": [],
   "source": [
    "# Importing libraries:\n",
    "\n",
    "import pandas as pd\n",
    "#import random"
   ]
  },
  {
   "cell_type": "code",
   "execution_count": 2,
   "id": "6ada5715",
   "metadata": {},
   "outputs": [],
   "source": [
    "# Reading the csv:\n",
    "\n",
    "df = pd.read_csv('songs.csv')"
   ]
  },
  {
   "cell_type": "code",
   "execution_count": 3,
   "id": "3762dc87",
   "metadata": {},
   "outputs": [
    {
     "data": {
      "text/html": [
       "<div>\n",
       "<style scoped>\n",
       "    .dataframe tbody tr th:only-of-type {\n",
       "        vertical-align: middle;\n",
       "    }\n",
       "\n",
       "    .dataframe tbody tr th {\n",
       "        vertical-align: top;\n",
       "    }\n",
       "\n",
       "    .dataframe thead th {\n",
       "        text-align: right;\n",
       "    }\n",
       "</style>\n",
       "<table border=\"1\" class=\"dataframe\">\n",
       "  <thead>\n",
       "    <tr style=\"text-align: right;\">\n",
       "      <th></th>\n",
       "      <th>Title</th>\n",
       "      <th>Artist</th>\n",
       "    </tr>\n",
       "  </thead>\n",
       "  <tbody>\n",
       "    <tr>\n",
       "      <th>0</th>\n",
       "      <td>Lovin On Me</td>\n",
       "      <td>Jack Harlow</td>\n",
       "    </tr>\n",
       "    <tr>\n",
       "      <th>1</th>\n",
       "      <td>Lil Boo Thang</td>\n",
       "      <td>Paul Russell</td>\n",
       "    </tr>\n",
       "    <tr>\n",
       "      <th>2</th>\n",
       "      <td>White Horse</td>\n",
       "      <td>Chris Stapleton</td>\n",
       "    </tr>\n",
       "    <tr>\n",
       "      <th>3</th>\n",
       "      <td>I Remember Everything (feat. Kacey Musgraves)</td>\n",
       "      <td>Zach Bryan</td>\n",
       "    </tr>\n",
       "    <tr>\n",
       "      <th>4</th>\n",
       "      <td>Around Me the Cold Night</td>\n",
       "      <td>Luminara Stellaris</td>\n",
       "    </tr>\n",
       "    <tr>\n",
       "      <th>...</th>\n",
       "      <td>...</td>\n",
       "      <td>...</td>\n",
       "    </tr>\n",
       "    <tr>\n",
       "      <th>174</th>\n",
       "      <td>Mi Ex Tenia Razon</td>\n",
       "      <td>Karol G</td>\n",
       "    </tr>\n",
       "    <tr>\n",
       "      <th>175</th>\n",
       "      <td>Different 'Round Here</td>\n",
       "      <td>Riley Green Featuring Luke Combs</td>\n",
       "    </tr>\n",
       "    <tr>\n",
       "      <th>176</th>\n",
       "      <td>But I Got A Beer In My Hand</td>\n",
       "      <td>Luke Bryan</td>\n",
       "    </tr>\n",
       "    <tr>\n",
       "      <th>177</th>\n",
       "      <td>Better Than Ever</td>\n",
       "      <td>YoungBoy Never Broke Again &amp; Rod Wave</td>\n",
       "    </tr>\n",
       "    <tr>\n",
       "      <th>178</th>\n",
       "      <td>Soak City (Do It)</td>\n",
       "      <td>310babii</td>\n",
       "    </tr>\n",
       "  </tbody>\n",
       "</table>\n",
       "<p>179 rows × 2 columns</p>\n",
       "</div>"
      ],
      "text/plain": [
       "                                             Title  \\\n",
       "0                                      Lovin On Me   \n",
       "1                                    Lil Boo Thang   \n",
       "2                                      White Horse   \n",
       "3    I Remember Everything (feat. Kacey Musgraves)   \n",
       "4                         Around Me the Cold Night   \n",
       "..                                             ...   \n",
       "174                              Mi Ex Tenia Razon   \n",
       "175                          Different 'Round Here   \n",
       "176                    But I Got A Beer In My Hand   \n",
       "177                               Better Than Ever   \n",
       "178                              Soak City (Do It)   \n",
       "\n",
       "                                    Artist  \n",
       "0                              Jack Harlow  \n",
       "1                             Paul Russell  \n",
       "2                          Chris Stapleton  \n",
       "3                               Zach Bryan  \n",
       "4                       Luminara Stellaris  \n",
       "..                                     ...  \n",
       "174                                Karol G  \n",
       "175       Riley Green Featuring Luke Combs  \n",
       "176                             Luke Bryan  \n",
       "177  YoungBoy Never Broke Again & Rod Wave  \n",
       "178                               310babii  \n",
       "\n",
       "[179 rows x 2 columns]"
      ]
     },
     "execution_count": 3,
     "metadata": {},
     "output_type": "execute_result"
    }
   ],
   "source": [
    "df"
   ]
  },
  {
   "cell_type": "code",
   "execution_count": 4,
   "id": "f0f50785",
   "metadata": {},
   "outputs": [],
   "source": [
    "# Creating a recommender where the user inputs a song title and check if that song is in the list you created. \n",
    "# If it is, give a different random song and artist from the list. If it is not on the list, \n",
    "# let the user know that you have no recommendation at this time.\n",
    "\n",
    "def recommend_song1(input_song, df):\n",
    "    if input_song in df['Title'].values:\n",
    "        filtered_df = df[df['Title'] != input_song]\n",
    "        random_song = filtered_df.sample(1)\n",
    "        recommended_title = random_song['Title'].values\n",
    "        recommended_artist = random_song['Artist'].values\n",
    "        print(f\"Entered song '{input_song}'. Here's a recommendation:\")\n",
    "        print(f\"Title: {recommended_title}, Artist: {recommended_artist}\")\n",
    "    else:\n",
    "        print(\"Sorry, we have no recommendation at this time for that song.\")"
   ]
  },
  {
   "cell_type": "code",
   "execution_count": 5,
   "id": "14337f27",
   "metadata": {},
   "outputs": [
    {
     "name": "stdout",
     "output_type": "stream",
     "text": [
      "Entered song 'Better Than Ever'. Here's a recommendation:\n",
      "Title: ['500lbs'], Artist: ['Lil Tecca']\n"
     ]
    }
   ],
   "source": [
    "# Example to check if it works:\n",
    "\n",
    "user_input1 = \"Better Than Ever\"\n",
    "recommend_song1(user_input1, df)"
   ]
  },
  {
   "cell_type": "code",
   "execution_count": 6,
   "id": "b7187f63",
   "metadata": {},
   "outputs": [
    {
     "name": "stdout",
     "output_type": "stream",
     "text": [
      "Entered song 'Better Than Ever'. Here's a recommendation:\n",
      "Title: ['Tonight I Dreamed a Pink Dream'], Artist: ['Luminara Stellaris']\n"
     ]
    }
   ],
   "source": [
    "user_input1 = \"Better Than Ever\"\n",
    "recommend_song1(user_input1, df)"
   ]
  },
  {
   "cell_type": "code",
   "execution_count": 7,
   "id": "8b4a4bfa",
   "metadata": {},
   "outputs": [
    {
     "name": "stdout",
     "output_type": "stream",
     "text": [
      "Entered song 'Better Than Ever'. Here's a recommendation:\n",
      "Title: ['If You Dont Have One-The Day You'], Artist: ['The day you']\n"
     ]
    }
   ],
   "source": [
    "user_input1 = \"Better Than Ever\"\n",
    "recommend_song1(user_input1, df)"
   ]
  },
  {
   "cell_type": "code",
   "execution_count": 8,
   "id": "940f819b",
   "metadata": {},
   "outputs": [],
   "source": [
    "# Function with the input integrated:\n",
    "\n",
    "def recommend_song2(df):\n",
    "    input_song = input('Enter the title of a song: ')\n",
    "    if input_song in df['Title'].values:\n",
    "        filtered_df = df[df['Title'] != input_song]\n",
    "        random_song = filtered_df.sample(1)\n",
    "        recommended_title = random_song['Title'].values\n",
    "        recommended_artist = random_song['Artist'].values\n",
    "        print(f\"Entered song '{input_song}'. Here's a recommendation:\")\n",
    "        print(f\"Title: {recommended_title}, Artist: {recommended_artist}\")\n",
    "    else:\n",
    "        print(\"Sorry, we have no recommendation at this time for that song.\")"
   ]
  },
  {
   "cell_type": "code",
   "execution_count": 9,
   "id": "678c9e57",
   "metadata": {},
   "outputs": [],
   "source": [
    "# More examples to check if it works:"
   ]
  },
  {
   "cell_type": "code",
   "execution_count": 10,
   "id": "bff63c37",
   "metadata": {},
   "outputs": [
    {
     "name": "stdout",
     "output_type": "stream",
     "text": [
      "Enter the title of a song: Better Than Ever\n",
      "Entered song 'Better Than Ever'. Here's a recommendation:\n",
      "Title: ['Dance The Night'], Artist: ['Dua Lipa']\n"
     ]
    }
   ],
   "source": [
    "recommend_song2(df)"
   ]
  },
  {
   "cell_type": "code",
   "execution_count": 11,
   "id": "5805dfab",
   "metadata": {},
   "outputs": [
    {
     "name": "stdout",
     "output_type": "stream",
     "text": [
      "Enter the title of a song: Better Than Ever\n",
      "Entered song 'Better Than Ever'. Here's a recommendation:\n",
      "Title: ['Standing Next to You (Future Funk Remix)'], Artist: ['Jung Kook']\n"
     ]
    }
   ],
   "source": [
    "recommend_song2(df)"
   ]
  },
  {
   "cell_type": "code",
   "execution_count": 12,
   "id": "60bfc9a2",
   "metadata": {
    "scrolled": true
   },
   "outputs": [
    {
     "name": "stdout",
     "output_type": "stream",
     "text": [
      "Enter the title of a song: Better Than Ever\n",
      "Entered song 'Better Than Ever'. Here's a recommendation:\n",
      "Title: ['The Christmas Song (Merry Christmas to You)'], Artist: ['Nat \"King\" Cole']\n"
     ]
    }
   ],
   "source": [
    "recommend_song2(df)"
   ]
  },
  {
   "cell_type": "code",
   "execution_count": 13,
   "id": "de39d2a7",
   "metadata": {},
   "outputs": [],
   "source": [
    "def recommend_song3(input_song, df):\n",
    "    if input_song in df['Title'].values:\n",
    "        recommended_song = df[df['Title'] != input_song].sample(1)\n",
    "        print(f\"Entered song '{input_song}'. Here's a recommendation:\")\n",
    "        print(f\"Title: {recommended_song['Title'].values}, Artist: {recommended_song['Artist'].values}\")\n",
    "    else:\n",
    "        print(\"Sorry, we have no recommendation at this time for that song.\")"
   ]
  },
  {
   "cell_type": "code",
   "execution_count": 14,
   "id": "c0cf1392",
   "metadata": {},
   "outputs": [
    {
     "name": "stdout",
     "output_type": "stream",
     "text": [
      "Entered song 'Better Than Ever'. Here's a recommendation:\n",
      "Title: ['You Broke My Heart'], Artist: ['Drake']\n"
     ]
    }
   ],
   "source": [
    "user_input3 = \"Better Than Ever\"\n",
    "recommend_song3(user_input3, df)"
   ]
  },
  {
   "cell_type": "code",
   "execution_count": 15,
   "id": "dc0456e7",
   "metadata": {},
   "outputs": [
    {
     "name": "stdout",
     "output_type": "stream",
     "text": [
      "Entered song 'Better Than Ever'. Here's a recommendation:\n",
      "Title: ['Watermelon Moonshine'], Artist: ['Lainey Wilson']\n"
     ]
    }
   ],
   "source": [
    "user_input3 = \"Better Than Ever\"\n",
    "recommend_song3(user_input3, df)"
   ]
  },
  {
   "cell_type": "code",
   "execution_count": 16,
   "id": "6b5516d2",
   "metadata": {},
   "outputs": [],
   "source": [
    "def recommend_song4(df):\n",
    "    input_song = input('Enter the title of a song: ')\n",
    "    if input_song in df['Title'].values:\n",
    "        recommended_song = df[df['Title'] != input_song].sample(1)\n",
    "        print(f\"Entered song '{input_song}'. Here's a recommendation:\")\n",
    "        print(f\"Title: {recommended_song['Title'].values}, Artist: {recommended_song['Artist'].values}\")\n",
    "    else:\n",
    "        print(\"Sorry, we have no recommendation at this time for that song.\")"
   ]
  },
  {
   "cell_type": "code",
   "execution_count": 17,
   "id": "7e47ab5e",
   "metadata": {},
   "outputs": [
    {
     "name": "stdout",
     "output_type": "stream",
     "text": [
      "Enter the title of a song: Better Than Ever\n",
      "Entered song 'Better Than Ever'. Here's a recommendation:\n",
      "Title: ['Water'], Artist: ['Tyla']\n"
     ]
    }
   ],
   "source": [
    "recommend_song4(df)"
   ]
  },
  {
   "cell_type": "code",
   "execution_count": 18,
   "id": "32a2f7c6",
   "metadata": {},
   "outputs": [
    {
     "name": "stdout",
     "output_type": "stream",
     "text": [
      "Enter the title of a song: Better Than Ever\n",
      "Entered song 'Better Than Ever'. Here's a recommendation:\n",
      "Title: ['Standing Next to You (Instrumental)'], Artist: ['Jung Kook']\n"
     ]
    }
   ],
   "source": [
    "recommend_song4(df)"
   ]
  },
  {
   "cell_type": "code",
   "execution_count": 19,
   "id": "ac619091",
   "metadata": {},
   "outputs": [
    {
     "name": "stdout",
     "output_type": "stream",
     "text": [
      "Enter the title of a song: Better Than Ever\n",
      "Entered song 'Better Than Ever'. Here's a recommendation:\n",
      "Title: ['Flowers'], Artist: ['Miley Cyrus']\n"
     ]
    }
   ],
   "source": [
    "recommend_song4(df)"
   ]
  }
 ],
 "metadata": {
  "kernelspec": {
   "display_name": "Python 3 (ipykernel)",
   "language": "python",
   "name": "python3"
  },
  "language_info": {
   "codemirror_mode": {
    "name": "ipython",
    "version": 3
   },
   "file_extension": ".py",
   "mimetype": "text/x-python",
   "name": "python",
   "nbconvert_exporter": "python",
   "pygments_lexer": "ipython3",
   "version": "3.11.5"
  }
 },
 "nbformat": 4,
 "nbformat_minor": 5
}
